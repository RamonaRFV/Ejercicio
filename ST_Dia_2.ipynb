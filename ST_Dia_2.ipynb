{
  "nbformat": 4,
  "nbformat_minor": 0,
  "metadata": {
    "colab": {
      "name": "ST_Dia_2.ipynb",
      "provenance": [],
      "toc_visible": true,
      "mount_file_id": "1ZQYBBMQ-yKKEhT6LxxnKLoCncNVm1Tx7",
      "authorship_tag": "ABX9TyOAMNjbVYFEsf0G1WUHNQ3R",
      "include_colab_link": true
    },
    "kernelspec": {
      "name": "python3",
      "display_name": "Python 3"
    },
    "language_info": {
      "name": "python"
    }
  },
  "cells": [
    {
      "cell_type": "markdown",
      "metadata": {
        "id": "view-in-github",
        "colab_type": "text"
      },
      "source": [
        "<a href=\"https://colab.research.google.com/github/RamonaRFV/Ejercicio/blob/main/ST_Dia_2.ipynb\" target=\"_parent\"><img src=\"https://colab.research.google.com/assets/colab-badge.svg\" alt=\"Open In Colab\"/></a>"
      ]
    },
    {
      "cell_type": "markdown",
      "source": [
        "**Pandas**\n"
      ],
      "metadata": {
        "id": "7FQeoJEOqlXc"
      }
    },
    {
      "cell_type": "code",
      "source": [
        "import pandas as pd"
      ],
      "metadata": {
        "id": "ZWY7Mxr7qw4g"
      },
      "execution_count": 21,
      "outputs": []
    },
    {
      "cell_type": "markdown",
      "source": [
        "Cargar la base de datos que se trabajará"
      ],
      "metadata": {
        "id": "duvGYa_rrR_M"
      }
    },
    {
      "cell_type": "code",
      "source": [
        "tabla = pd.read_excel(\"BD_vendedores.xlsx\") # campos: REGION, ID, NOMBRE, APELLIDO, SALARIO, UNIDADES VENDIDAS, VENTAS TOTALES, PORCENTAJE DE VENTAS "
      ],
      "metadata": {
        "id": "CkqPB8zXrs7Q"
      },
      "execution_count": 24,
      "outputs": []
    },
    {
      "cell_type": "code",
      "source": [
        "print(tabla)"
      ],
      "metadata": {
        "id": "V0edroePsz1L"
      },
      "execution_count": null,
      "outputs": []
    },
    {
      "cell_type": "code",
      "source": [
        "print(tabla[5:])"
      ],
      "metadata": {
        "id": "7XfX9VrzzRWh"
      },
      "execution_count": null,
      "outputs": []
    },
    {
      "cell_type": "code",
      "source": [
        "print(tabla.head())"
      ],
      "metadata": {
        "id": "Z_EYfbJp-iFa"
      },
      "execution_count": null,
      "outputs": []
    },
    {
      "cell_type": "markdown",
      "source": [
        "Extracción de información por columna   Lista_1 = tabla['columna']\n"
      ],
      "metadata": {
        "id": "0GGO8wcStAnp"
      }
    },
    {
      "cell_type": "code",
      "source": [
        "UnidadesV = tabla['UNIDADES VENDIDAS']\n",
        "region = tabla['REGION']\n",
        "salarios = tabla['SALARIO']\n"
      ],
      "metadata": {
        "id": "DV4RVBGCs20d"
      },
      "execution_count": 35,
      "outputs": []
    },
    {
      "cell_type": "code",
      "source": [
        "print(UnidadesV)"
      ],
      "metadata": {
        "id": "MP0pF-m7thDz"
      },
      "execution_count": null,
      "outputs": []
    },
    {
      "cell_type": "markdown",
      "source": [
        "Obtener algunas medidas descriptivas\n",
        "max(), min(), count(), mean()"
      ],
      "metadata": {
        "id": "a3VqMnCOuuzH"
      }
    },
    {
      "cell_type": "code",
      "source": [
        "region[6]"
      ],
      "metadata": {
        "id": "BR_Uwlr0v6VC"
      },
      "execution_count": null,
      "outputs": []
    },
    {
      "cell_type": "code",
      "source": [
        "print(region)"
      ],
      "metadata": {
        "id": "e5jFM1Hqvxhj"
      },
      "execution_count": null,
      "outputs": []
    },
    {
      "cell_type": "markdown",
      "source": [
        "Subtablas \n",
        "tabla.groupby('Columna').get_group('Valor')"
      ],
      "metadata": {
        "id": "h6sDzY14wF4g"
      }
    },
    {
      "cell_type": "code",
      "source": [
        "tablaSur = tabla.groupby('REGION').get_group('SUR')"
      ],
      "metadata": {
        "id": "7rOFF73uwVGc"
      },
      "execution_count": 38,
      "outputs": []
    },
    {
      "cell_type": "code",
      "source": [
        "print(tablaSur)"
      ],
      "metadata": {
        "id": "rNq6qxOyy9Bj"
      },
      "execution_count": null,
      "outputs": []
    },
    {
      "cell_type": "markdown",
      "source": [
        "\n",
        "Obtener algunas medidas descriptivas max(), min(), count(), mean()\n",
        "\n"
      ],
      "metadata": {
        "id": "XfukVj4E0dFF"
      }
    },
    {
      "cell_type": "code",
      "source": [
        "print(\"El salario es:\", salarios.max())"
      ],
      "metadata": {
        "id": "Sk1Bl90r1am5"
      },
      "execution_count": null,
      "outputs": []
    },
    {
      "cell_type": "code",
      "source": [
        "UnidadesV.max()"
      ],
      "metadata": {
        "id": "p8JBu8752xW2"
      },
      "execution_count": null,
      "outputs": []
    },
    {
      "cell_type": "code",
      "source": [
        "tabla['UNIDADES VENDIDAS'].max()"
      ],
      "metadata": {
        "id": "inCqjwzU2vSz"
      },
      "execution_count": null,
      "outputs": []
    },
    {
      "cell_type": "code",
      "source": [
        "norte = tabla.loc[tabla.loc[:, 'REGION'] == 'NORTE']"
      ],
      "metadata": {
        "id": "wUtjdynP4lyj"
      },
      "execution_count": 45,
      "outputs": []
    },
    {
      "cell_type": "code",
      "source": [
        "print(norte)"
      ],
      "metadata": {
        "id": "UU7uc3Dm4y3a"
      },
      "execution_count": null,
      "outputs": []
    },
    {
      "cell_type": "code",
      "source": [
        "df_array = tabla.values\n",
        "\n",
        "print(df_array)"
      ],
      "metadata": {
        "id": "cAXogT9U6NUO"
      },
      "execution_count": null,
      "outputs": []
    },
    {
      "cell_type": "code",
      "source": [
        "print(df_array[2])"
      ],
      "metadata": {
        "colab": {
          "base_uri": "https://localhost:8080/"
        },
        "id": "HjTcidPx6eYJ",
        "outputId": "157c870e-9d4c-4c03-c8af-44d5549020d8"
      },
      "execution_count": null,
      "outputs": [
        {
          "output_type": "stream",
          "name": "stdout",
          "text": [
            "['NORTE' 5185 'Ana Valeria' 'Cruz Montesinos' 10046 429 7238\n",
            " 0.1102110424216585]\n"
          ]
        }
      ]
    },
    {
      "cell_type": "code",
      "source": [
        "print(df_array[2][3])"
      ],
      "metadata": {
        "colab": {
          "base_uri": "https://localhost:8080/"
        },
        "id": "8wqMY5b36lDN",
        "outputId": "bc6a4520-7593-4f0c-81c0-60d47a90abaf"
      },
      "execution_count": null,
      "outputs": [
        {
          "output_type": "stream",
          "name": "stdout",
          "text": [
            "Cruz Montesinos\n"
          ]
        }
      ]
    },
    {
      "cell_type": "code",
      "source": [
        "import numpy as np\n",
        "import statistics as stat\n",
        "Alu = [19, 18, 20, 19, 18, 17, 21, 18, 21, 20]"
      ],
      "metadata": {
        "id": "dAilwIYKBLFi"
      },
      "execution_count": null,
      "outputs": []
    },
    {
      "cell_type": "code",
      "source": [
        "print(stat.mode(Alu))"
      ],
      "metadata": {
        "id": "mfLrMv18BUaP"
      },
      "execution_count": null,
      "outputs": []
    },
    {
      "cell_type": "code",
      "source": [
        "AluM = [180, 160, 165, 178, 185, 155, 163, 171, 161, 172, 158]"
      ],
      "metadata": {
        "id": "aZT_3IEGBzfN"
      },
      "execution_count": null,
      "outputs": []
    },
    {
      "cell_type": "code",
      "source": [
        "print(stat.median(AluM))"
      ],
      "metadata": {
        "id": "S0T7vBy9B3lZ"
      },
      "execution_count": null,
      "outputs": []
    },
    {
      "cell_type": "code",
      "source": [
        "AluP = [83, 70, 95, 84, 73, 94, 86, 74, 97, 82]"
      ],
      "metadata": {
        "id": "bZFgiJ3sCDZm"
      },
      "execution_count": null,
      "outputs": []
    },
    {
      "cell_type": "code",
      "source": [
        "np.sum(AluP)"
      ],
      "metadata": {
        "id": "RYCwciGnCJtr"
      },
      "execution_count": null,
      "outputs": []
    },
    {
      "cell_type": "code",
      "source": [
        "np.mean(AluP)"
      ],
      "metadata": {
        "id": "kARfRkecCOXf"
      },
      "execution_count": null,
      "outputs": []
    },
    {
      "cell_type": "code",
      "source": [
        "stat.mean(AluP)"
      ],
      "metadata": {
        "id": "HrjsyrXjCR7a"
      },
      "execution_count": null,
      "outputs": []
    },
    {
      "cell_type": "code",
      "source": [
        "stat.stdev(AluP)"
      ],
      "metadata": {
        "id": "7BvTpraxCmWS"
      },
      "execution_count": null,
      "outputs": []
    },
    {
      "cell_type": "code",
      "source": [
        "Datos = [15280, 25789, 30789, 15280, 35890,32000, 17382, 24360, 33000, 25500]"
      ],
      "metadata": {
        "id": "XcjltBBYC3bg"
      },
      "execution_count": null,
      "outputs": []
    },
    {
      "cell_type": "code",
      "source": [
        "prom = np.mean(Datos)\n",
        "print(prom)"
      ],
      "metadata": {
        "id": "zirJxbDwDFCM"
      },
      "execution_count": null,
      "outputs": []
    },
    {
      "cell_type": "code",
      "source": [
        "stat.stdev(Datos)"
      ],
      "metadata": {
        "id": "_i0nzW-oDPko"
      },
      "execution_count": null,
      "outputs": []
    },
    {
      "cell_type": "code",
      "source": [
        "print(tabla.head())"
      ],
      "metadata": {
        "id": "DiPSRWLoFkk0"
      },
      "execution_count": null,
      "outputs": []
    },
    {
      "cell_type": "code",
      "source": [
        "tabla.describe()"
      ],
      "metadata": {
        "id": "jGFXpJE_I98v"
      },
      "execution_count": null,
      "outputs": []
    },
    {
      "cell_type": "code",
      "source": [
        "rango = np.max(Datos)-np.min(Datos)"
      ],
      "metadata": {
        "id": "9KO53ypfJdam"
      },
      "execution_count": 56,
      "outputs": []
    },
    {
      "cell_type": "code",
      "source": [
        "print(rango)"
      ],
      "metadata": {
        "id": "IzUFUN_BJ1PF"
      },
      "execution_count": null,
      "outputs": []
    },
    {
      "cell_type": "code",
      "source": [
        "Temperaturas = pd.read_excel(\"BD_Tabla_Temperaturas.xlsx\")"
      ],
      "metadata": {
        "id": "-ZPYkTftKJcM"
      },
      "execution_count": 58,
      "outputs": []
    },
    {
      "cell_type": "code",
      "source": [
        "Temperaturas.describe()"
      ],
      "metadata": {
        "id": "u9PCG8cRKlMy"
      },
      "execution_count": null,
      "outputs": []
    },
    {
      "cell_type": "code",
      "source": [
        "Mty = Temperaturas['MTY (°C)']\n",
        "CdMx = Temperaturas['CDMX (°C)']"
      ],
      "metadata": {
        "id": "3-rYZ8ybLIU7"
      },
      "execution_count": 62,
      "outputs": []
    },
    {
      "cell_type": "code",
      "source": [
        "stat.median(Mty)"
      ],
      "metadata": {
        "id": "zvlIZk97LnYs"
      },
      "execution_count": null,
      "outputs": []
    },
    {
      "cell_type": "code",
      "source": [
        "stat.mode(Mty)"
      ],
      "metadata": {
        "id": "uUJAENvBLsVk"
      },
      "execution_count": null,
      "outputs": []
    },
    {
      "cell_type": "code",
      "source": [
        "stat.variance(Mty)"
      ],
      "metadata": {
        "id": "sKAnx9tML5e3"
      },
      "execution_count": null,
      "outputs": []
    }
  ]
}